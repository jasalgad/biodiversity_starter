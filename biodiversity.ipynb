{
 "cells": [
  {
   "cell_type": "markdown",
   "metadata": {},
   "source": [
    "<font size=\"4\">**INTRODUCCIÓN**</font>\n",
    "\n",
    "\n",
    "In this project we are going to analyze the species that are found in different national parks to evaluate their state of conservation and what situation they are in, whether or not they are in danger of extinction and whether or not they are acting on the basis of their particular situation and if there is any pattern that relates those categories of fauna of those who are not classified with those who are, all in order to make some prediction to act better.\n",
    "\n",
    "This study must be able to respond to what was proposed.\n",
    "\n",
    "\n",
    "<font size =\"4\">**SCOPE**</font>\n",
    "\n",
    "The way to carry out this study will first be based on knowing and understanding the databases and knowing the variables we have; once understood we will proceed to analyze them and relate them to each other through graphs and summarized data to draw conclusions and patterns that serve us to respond to the objective of the study.\n",
    "\n",
    "To do this, we will set ourselves a series of objectives of analysis of the databases, we will analyze it and we will draw some conclusions, the fulfillment of those objectives should give us sufficient information for what is questioned.\n",
    "             \n",
    "<font size =\"4\">**GOALS**</font>\n",
    "\n",
    "\n",
    "The objectives of this analysis are:\n",
    "\n",
    "1. Distribution of data:\n",
    "\n",
    "    A) How many species are there, how many categories, etc.\n",
    "\n",
    "    B) How many national parks is the study based, how many species are distributed per park.\n",
    "\n",
    "    C) In what situation each of the species is: Those who are not at risk, those who are, those who are in recovery, those who are in danger of extinction, etc., quantify it and summarize it.\n",
    "\n",
    "    D) Conservation status of the species in question\n",
    "    \n",
    "\n",
    "2. Exposure of the information well summarized in data, or with graphs\n",
    "\n",
    "\n",
    "3. Search for patterns\n",
    "\n",
    "\n",
    "4. Draw conclusions according to the data obtained      "
   ]
  },
  {
   "cell_type": "code",
   "execution_count": 10,
   "metadata": {},
   "outputs": [],
   "source": [
    "import pandas as pd\n",
    "import numpy as np\n",
    "import statsmodels as sm\n",
    "import scipy.stats as stats\n",
    "from scipy.stats import chi2_contingency\n",
    "import matplotlib.pyplot as plt\n",
    "import seaborn as sns"
   ]
  },
  {
   "cell_type": "markdown",
   "metadata": {},
   "source": [
    "**We analyze the database that we have imported called 'observ' (observed data of animals by natural park) and we do the same with the 'species' (types of animals by category, their state of conservation and performance)**"
   ]
  },
  {
   "cell_type": "code",
   "execution_count": 322,
   "metadata": {
    "scrolled": true
   },
   "outputs": [
    {
     "name": "stdout",
     "output_type": "stream",
     "text": [
      "<class 'pandas.core.frame.DataFrame'>\n",
      "RangeIndex: 23296 entries, 0 to 23295\n",
      "Data columns (total 3 columns):\n",
      " #   Column           Non-Null Count  Dtype \n",
      "---  ------           --------------  ----- \n",
      " 0   scientific_name  23296 non-null  object\n",
      " 1   park_name        23296 non-null  object\n",
      " 2   observations     23296 non-null  int64 \n",
      "dtypes: int64(1), object(2)\n",
      "memory usage: 546.1+ KB\n",
      "None\n",
      "Index(['scientific_name', 'park_name', 'observations'], dtype='object')\n",
      "Shape: (23296, 3)\n"
     ]
    }
   ],
   "source": [
    "observ = pd.read_csv(\"observations.csv\")\n",
    "species = pd.read_csv(\"species_info.csv\")\n",
    "print(observ.info())\n",
    "print(observ.columns)\n",
    "print(\"Shape: \" + str(observ.shape))"
   ]
  },
  {
   "cell_type": "code",
   "execution_count": 12,
   "metadata": {},
   "outputs": [
    {
     "name": "stdout",
     "output_type": "stream",
     "text": [
      "Number of species: 5541\n",
      "Number of park: 4\n",
      "Number of observation as total: 3314739\n",
      "Number of observation per park_name\n",
      "Bryce National Park                     576025\n",
      "Great Smoky Mountains National Park     431820\n",
      "Yellowstone National Park              1443562\n",
      "Yosemite National Park                  863332\n",
      "Name: observations, dtype: int64\n",
      "Number of species per park_name\n",
      "Bryce National Park                    5541\n",
      "Great Smoky Mountains National Park    5541\n",
      "Yellowstone National Park              5541\n",
      "Yosemite National Park                 5541\n",
      "Name: scientific_name, dtype: int64\n",
      "Maximum observations in a specicif specie is: 321\n",
      "Minimum observations in a specicif specie is: 9\n",
      "The Mean observations per specie is: 142.0\n"
     ]
    },
    {
     "data": {
      "text/html": [
       "<div>\n",
       "<style scoped>\n",
       "    .dataframe tbody tr th:only-of-type {\n",
       "        vertical-align: middle;\n",
       "    }\n",
       "\n",
       "    .dataframe tbody tr th {\n",
       "        vertical-align: top;\n",
       "    }\n",
       "\n",
       "    .dataframe thead th {\n",
       "        text-align: right;\n",
       "    }\n",
       "</style>\n",
       "<table border=\"1\" class=\"dataframe\">\n",
       "  <thead>\n",
       "    <tr style=\"text-align: right;\">\n",
       "      <th></th>\n",
       "      <th>scientific_name</th>\n",
       "      <th>park_name</th>\n",
       "      <th>observations</th>\n",
       "    </tr>\n",
       "  </thead>\n",
       "  <tbody>\n",
       "    <tr>\n",
       "      <th>0</th>\n",
       "      <td>Vicia benghalensis</td>\n",
       "      <td>Great Smoky Mountains National Park</td>\n",
       "      <td>68</td>\n",
       "    </tr>\n",
       "    <tr>\n",
       "      <th>1</th>\n",
       "      <td>Neovison vison</td>\n",
       "      <td>Great Smoky Mountains National Park</td>\n",
       "      <td>77</td>\n",
       "    </tr>\n",
       "    <tr>\n",
       "      <th>2</th>\n",
       "      <td>Prunus subcordata</td>\n",
       "      <td>Yosemite National Park</td>\n",
       "      <td>138</td>\n",
       "    </tr>\n",
       "    <tr>\n",
       "      <th>3</th>\n",
       "      <td>Abutilon theophrasti</td>\n",
       "      <td>Bryce National Park</td>\n",
       "      <td>84</td>\n",
       "    </tr>\n",
       "    <tr>\n",
       "      <th>4</th>\n",
       "      <td>Githopsis specularioides</td>\n",
       "      <td>Great Smoky Mountains National Park</td>\n",
       "      <td>85</td>\n",
       "    </tr>\n",
       "  </tbody>\n",
       "</table>\n",
       "</div>"
      ],
      "text/plain": [
       "            scientific_name                            park_name  observations\n",
       "0        Vicia benghalensis  Great Smoky Mountains National Park            68\n",
       "1            Neovison vison  Great Smoky Mountains National Park            77\n",
       "2         Prunus subcordata               Yosemite National Park           138\n",
       "3      Abutilon theophrasti                  Bryce National Park            84\n",
       "4  Githopsis specularioides  Great Smoky Mountains National Park            85"
      ]
     },
     "execution_count": 12,
     "metadata": {},
     "output_type": "execute_result"
    }
   ],
   "source": [
    "print(\"Number of species: \" + str(observ.scientific_name.nunique()))\n",
    "print(\"Number of park: \" + str(observ.park_name.nunique()))\n",
    "print(\"Number of observation as total: \" + str(observ.observations.sum()))\n",
    "print(\"Number of observation per \" + str(observ.groupby(observ.park_name).observations.sum()))\n",
    "print(\"Number of species per \" + str(observ.scientific_name.groupby(observ.park_name).nunique()))\n",
    "print(\"Maximum observations in a specicif specie is: \" + str(observ.observations.max()))\n",
    "print(\"Minimum observations in a specicif specie is: \" + str(observ.observations.min()))\n",
    "print(\"The Mean observations per specie is: \" + str(round(observ.observations.mean(), 0)))\n",
    "observ.head()"
   ]
  },
  {
   "cell_type": "code",
   "execution_count": 13,
   "metadata": {
    "scrolled": true
   },
   "outputs": [
    {
     "name": "stdout",
     "output_type": "stream",
     "text": [
      "Index(['category', 'scientific_name', 'common_names', 'conservation_status'], dtype='object')\n",
      "<class 'pandas.core.frame.DataFrame'>\n",
      "RangeIndex: 5824 entries, 0 to 5823\n",
      "Data columns (total 4 columns):\n",
      " #   Column               Non-Null Count  Dtype \n",
      "---  ------               --------------  ----- \n",
      " 0   category             5824 non-null   object\n",
      " 1   scientific_name      5824 non-null   object\n",
      " 2   common_names         5824 non-null   object\n",
      " 3   conservation_status  191 non-null    object\n",
      "dtypes: object(4)\n",
      "memory usage: 182.1+ KB\n",
      "None\n",
      "Shape: (5824, 4)\n"
     ]
    },
    {
     "data": {
      "text/html": [
       "<div>\n",
       "<style scoped>\n",
       "    .dataframe tbody tr th:only-of-type {\n",
       "        vertical-align: middle;\n",
       "    }\n",
       "\n",
       "    .dataframe tbody tr th {\n",
       "        vertical-align: top;\n",
       "    }\n",
       "\n",
       "    .dataframe thead th {\n",
       "        text-align: right;\n",
       "    }\n",
       "</style>\n",
       "<table border=\"1\" class=\"dataframe\">\n",
       "  <thead>\n",
       "    <tr style=\"text-align: right;\">\n",
       "      <th></th>\n",
       "      <th>category</th>\n",
       "      <th>scientific_name</th>\n",
       "      <th>common_names</th>\n",
       "      <th>conservation_status</th>\n",
       "    </tr>\n",
       "  </thead>\n",
       "  <tbody>\n",
       "    <tr>\n",
       "      <th>0</th>\n",
       "      <td>Mammal</td>\n",
       "      <td>Clethrionomys gapperi gapperi</td>\n",
       "      <td>Gapper's Red-Backed Vole</td>\n",
       "      <td>NaN</td>\n",
       "    </tr>\n",
       "    <tr>\n",
       "      <th>1</th>\n",
       "      <td>Mammal</td>\n",
       "      <td>Bos bison</td>\n",
       "      <td>American Bison, Bison</td>\n",
       "      <td>NaN</td>\n",
       "    </tr>\n",
       "    <tr>\n",
       "      <th>2</th>\n",
       "      <td>Mammal</td>\n",
       "      <td>Bos taurus</td>\n",
       "      <td>Aurochs, Aurochs, Domestic Cattle (Feral), Dom...</td>\n",
       "      <td>NaN</td>\n",
       "    </tr>\n",
       "    <tr>\n",
       "      <th>3</th>\n",
       "      <td>Mammal</td>\n",
       "      <td>Ovis aries</td>\n",
       "      <td>Domestic Sheep, Mouflon, Red Sheep, Sheep (Feral)</td>\n",
       "      <td>NaN</td>\n",
       "    </tr>\n",
       "    <tr>\n",
       "      <th>4</th>\n",
       "      <td>Mammal</td>\n",
       "      <td>Cervus elaphus</td>\n",
       "      <td>Wapiti Or Elk</td>\n",
       "      <td>NaN</td>\n",
       "    </tr>\n",
       "  </tbody>\n",
       "</table>\n",
       "</div>"
      ],
      "text/plain": [
       "  category                scientific_name  \\\n",
       "0   Mammal  Clethrionomys gapperi gapperi   \n",
       "1   Mammal                      Bos bison   \n",
       "2   Mammal                     Bos taurus   \n",
       "3   Mammal                     Ovis aries   \n",
       "4   Mammal                 Cervus elaphus   \n",
       "\n",
       "                                        common_names conservation_status  \n",
       "0                           Gapper's Red-Backed Vole                 NaN  \n",
       "1                              American Bison, Bison                 NaN  \n",
       "2  Aurochs, Aurochs, Domestic Cattle (Feral), Dom...                 NaN  \n",
       "3  Domestic Sheep, Mouflon, Red Sheep, Sheep (Feral)                 NaN  \n",
       "4                                      Wapiti Or Elk                 NaN  "
      ]
     },
     "execution_count": 13,
     "metadata": {},
     "output_type": "execute_result"
    }
   ],
   "source": [
    "print(species.columns)\n",
    "print(species.info())\n",
    "print(\"Shape: \" + str(species.shape))\n",
    "species.head()"
   ]
  },
  {
   "cell_type": "markdown",
   "metadata": {},
   "source": [
    "<font size=\"6\">**STUDING THE SPECIES DATAFRAME - STATUS CONSERVATION AND PROTECTED ANIMALS**</font>"
   ]
  },
  {
   "cell_type": "code",
   "execution_count": 16,
   "metadata": {},
   "outputs": [
    {
     "name": "stdout",
     "output_type": "stream",
     "text": [
      "conservation_status\n",
      "Endangered             16\n",
      "In Recovery             4\n",
      "Species of Concern    161\n",
      "Threatened             10\n",
      "Name: conservation_status, dtype: int64\n",
      "Sin status de conservacion:5633\n"
     ]
    },
    {
     "data": {
      "text/plain": [
       "category\n",
       "Amphibian              80\n",
       "Bird                  521\n",
       "Fish                  127\n",
       "Mammal                214\n",
       "Nonvascular Plant     333\n",
       "Reptile                79\n",
       "Vascular Plant       4470\n",
       "Name: category, dtype: int64"
      ]
     },
     "execution_count": 16,
     "metadata": {},
     "output_type": "execute_result"
    }
   ],
   "source": [
    "print((species.conservation_status.groupby(species.conservation_status).count()))\n",
    "print((\"Sin status de conservacion:\" + str(species.conservation_status.isnull().sum())))\n",
    "species.category.groupby(species.category).count()"
   ]
  },
  {
   "cell_type": "markdown",
   "metadata": {},
   "source": [
    "**We copy the species database by species_1 since we are going to modify the original database by incorporating the Null value of conservation_status, since there is no information, by the string \"not Intervention\":**"
   ]
  },
  {
   "cell_type": "code",
   "execution_count": 17,
   "metadata": {},
   "outputs": [
    {
     "data": {
      "text/html": [
       "<div>\n",
       "<style scoped>\n",
       "    .dataframe tbody tr th:only-of-type {\n",
       "        vertical-align: middle;\n",
       "    }\n",
       "\n",
       "    .dataframe tbody tr th {\n",
       "        vertical-align: top;\n",
       "    }\n",
       "\n",
       "    .dataframe thead th {\n",
       "        text-align: right;\n",
       "    }\n",
       "</style>\n",
       "<table border=\"1\" class=\"dataframe\">\n",
       "  <thead>\n",
       "    <tr style=\"text-align: right;\">\n",
       "      <th></th>\n",
       "      <th>category</th>\n",
       "      <th>scientific_name</th>\n",
       "      <th>common_names</th>\n",
       "      <th>conservation_status</th>\n",
       "    </tr>\n",
       "  </thead>\n",
       "  <tbody>\n",
       "    <tr>\n",
       "      <th>0</th>\n",
       "      <td>Mammal</td>\n",
       "      <td>Clethrionomys gapperi gapperi</td>\n",
       "      <td>Gapper's Red-Backed Vole</td>\n",
       "      <td>Not Intervention</td>\n",
       "    </tr>\n",
       "    <tr>\n",
       "      <th>1</th>\n",
       "      <td>Mammal</td>\n",
       "      <td>Bos bison</td>\n",
       "      <td>American Bison, Bison</td>\n",
       "      <td>Not Intervention</td>\n",
       "    </tr>\n",
       "    <tr>\n",
       "      <th>2</th>\n",
       "      <td>Mammal</td>\n",
       "      <td>Bos taurus</td>\n",
       "      <td>Aurochs, Aurochs, Domestic Cattle (Feral), Dom...</td>\n",
       "      <td>Not Intervention</td>\n",
       "    </tr>\n",
       "    <tr>\n",
       "      <th>3</th>\n",
       "      <td>Mammal</td>\n",
       "      <td>Ovis aries</td>\n",
       "      <td>Domestic Sheep, Mouflon, Red Sheep, Sheep (Feral)</td>\n",
       "      <td>Not Intervention</td>\n",
       "    </tr>\n",
       "    <tr>\n",
       "      <th>4</th>\n",
       "      <td>Mammal</td>\n",
       "      <td>Cervus elaphus</td>\n",
       "      <td>Wapiti Or Elk</td>\n",
       "      <td>Not Intervention</td>\n",
       "    </tr>\n",
       "  </tbody>\n",
       "</table>\n",
       "</div>"
      ],
      "text/plain": [
       "  category                scientific_name  \\\n",
       "0   Mammal  Clethrionomys gapperi gapperi   \n",
       "1   Mammal                      Bos bison   \n",
       "2   Mammal                     Bos taurus   \n",
       "3   Mammal                     Ovis aries   \n",
       "4   Mammal                 Cervus elaphus   \n",
       "\n",
       "                                        common_names conservation_status  \n",
       "0                           Gapper's Red-Backed Vole    Not Intervention  \n",
       "1                              American Bison, Bison    Not Intervention  \n",
       "2  Aurochs, Aurochs, Domestic Cattle (Feral), Dom...    Not Intervention  \n",
       "3  Domestic Sheep, Mouflon, Red Sheep, Sheep (Feral)    Not Intervention  \n",
       "4                                      Wapiti Or Elk    Not Intervention  "
      ]
     },
     "execution_count": 17,
     "metadata": {},
     "output_type": "execute_result"
    }
   ],
   "source": [
    "species_1 = species\n",
    "species_1.conservation_status.fillna(\"Not Intervention\", inplace = True)\n",
    "species_1.head()"
   ]
  },
  {
   "cell_type": "markdown",
   "metadata": {},
   "source": [
    "**Now we summarize the total conservation_status by category and get an idea of the animals that are in danger of extinction, whether or not they are acting with the rest and in what proportion**"
   ]
  },
  {
   "cell_type": "code",
   "execution_count": 18,
   "metadata": {},
   "outputs": [
    {
     "data": {
      "text/html": [
       "<div>\n",
       "<style scoped>\n",
       "    .dataframe tbody tr th:only-of-type {\n",
       "        vertical-align: middle;\n",
       "    }\n",
       "\n",
       "    .dataframe tbody tr th {\n",
       "        vertical-align: top;\n",
       "    }\n",
       "\n",
       "    .dataframe thead th {\n",
       "        text-align: right;\n",
       "    }\n",
       "</style>\n",
       "<table border=\"1\" class=\"dataframe\">\n",
       "  <thead>\n",
       "    <tr style=\"text-align: right;\">\n",
       "      <th>category</th>\n",
       "      <th>Amphibian</th>\n",
       "      <th>Bird</th>\n",
       "      <th>Fish</th>\n",
       "      <th>Mammal</th>\n",
       "      <th>Nonvascular Plant</th>\n",
       "      <th>Reptile</th>\n",
       "      <th>Vascular Plant</th>\n",
       "    </tr>\n",
       "    <tr>\n",
       "      <th>conservation_status</th>\n",
       "      <th></th>\n",
       "      <th></th>\n",
       "      <th></th>\n",
       "      <th></th>\n",
       "      <th></th>\n",
       "      <th></th>\n",
       "      <th></th>\n",
       "    </tr>\n",
       "  </thead>\n",
       "  <tbody>\n",
       "    <tr>\n",
       "      <th>Endangered</th>\n",
       "      <td>1.0</td>\n",
       "      <td>4.0</td>\n",
       "      <td>3.0</td>\n",
       "      <td>7.0</td>\n",
       "      <td>NaN</td>\n",
       "      <td>NaN</td>\n",
       "      <td>1.0</td>\n",
       "    </tr>\n",
       "    <tr>\n",
       "      <th>In Recovery</th>\n",
       "      <td>NaN</td>\n",
       "      <td>3.0</td>\n",
       "      <td>NaN</td>\n",
       "      <td>1.0</td>\n",
       "      <td>NaN</td>\n",
       "      <td>NaN</td>\n",
       "      <td>NaN</td>\n",
       "    </tr>\n",
       "    <tr>\n",
       "      <th>Species of Concern</th>\n",
       "      <td>4.0</td>\n",
       "      <td>72.0</td>\n",
       "      <td>4.0</td>\n",
       "      <td>28.0</td>\n",
       "      <td>5.0</td>\n",
       "      <td>5.0</td>\n",
       "      <td>43.0</td>\n",
       "    </tr>\n",
       "    <tr>\n",
       "      <th>Threatened</th>\n",
       "      <td>2.0</td>\n",
       "      <td>NaN</td>\n",
       "      <td>4.0</td>\n",
       "      <td>2.0</td>\n",
       "      <td>NaN</td>\n",
       "      <td>NaN</td>\n",
       "      <td>2.0</td>\n",
       "    </tr>\n",
       "  </tbody>\n",
       "</table>\n",
       "</div>"
      ],
      "text/plain": [
       "category             Amphibian  Bird  Fish  Mammal  Nonvascular Plant  \\\n",
       "conservation_status                                                     \n",
       "Endangered                 1.0   4.0   3.0     7.0                NaN   \n",
       "In Recovery                NaN   3.0   NaN     1.0                NaN   \n",
       "Species of Concern         4.0  72.0   4.0    28.0                5.0   \n",
       "Threatened                 2.0   NaN   4.0     2.0                NaN   \n",
       "\n",
       "category             Reptile  Vascular Plant  \n",
       "conservation_status                           \n",
       "Endangered               NaN             1.0  \n",
       "In Recovery              NaN             NaN  \n",
       "Species of Concern       5.0            43.0  \n",
       "Threatened               NaN             2.0  "
      ]
     },
     "execution_count": 18,
     "metadata": {},
     "output_type": "execute_result"
    }
   ],
   "source": [
    "conservation_category = species_1[species_1.conservation_status != \"Not Intervention\"]\\\n",
    ".groupby([\"conservation_status\", \"category\"])[\"category\"].count().unstack()\n",
    "\n",
    "conservation_category"
   ]
  },
  {
   "cell_type": "code",
   "execution_count": 19,
   "metadata": {},
   "outputs": [
    {
     "data": {
      "text/plain": [
       "Text(0, 0.5, 'Count')"
      ]
     },
     "execution_count": 19,
     "metadata": {},
     "output_type": "execute_result"
    },
    {
     "data": {
      "image/png": "[encoded data removed]",
      "text/plain": [
       "<Figure size 640x480 with 1 Axes>"
      ]
     },
     "metadata": {},
     "output_type": "display_data"
    }
   ],
   "source": [
    "conservation_category.plot(kind = \"bar\", stacked = True)\n",
    "plt.xlabel(\"Conservation_status\")\n",
    "plt.ylabel(\"Count\")"
   ]
  },
  {
   "cell_type": "code",
   "execution_count": 20,
   "metadata": {},
   "outputs": [
    {
     "data": {
      "text/html": [
       "<div>\n",
       "<style scoped>\n",
       "    .dataframe tbody tr th:only-of-type {\n",
       "        vertical-align: middle;\n",
       "    }\n",
       "\n",
       "    .dataframe tbody tr th {\n",
       "        vertical-align: top;\n",
       "    }\n",
       "\n",
       "    .dataframe thead th {\n",
       "        text-align: right;\n",
       "    }\n",
       "</style>\n",
       "<table border=\"1\" class=\"dataframe\">\n",
       "  <thead>\n",
       "    <tr style=\"text-align: right;\">\n",
       "      <th>category</th>\n",
       "      <th>Amphibian</th>\n",
       "      <th>Bird</th>\n",
       "      <th>Fish</th>\n",
       "      <th>Mammal</th>\n",
       "      <th>Nonvascular Plant</th>\n",
       "      <th>Reptile</th>\n",
       "      <th>Vascular Plant</th>\n",
       "    </tr>\n",
       "    <tr>\n",
       "      <th>conservation_status</th>\n",
       "      <th></th>\n",
       "      <th></th>\n",
       "      <th></th>\n",
       "      <th></th>\n",
       "      <th></th>\n",
       "      <th></th>\n",
       "      <th></th>\n",
       "    </tr>\n",
       "  </thead>\n",
       "  <tbody>\n",
       "    <tr>\n",
       "      <th>Not Intervention</th>\n",
       "      <td>73</td>\n",
       "      <td>442</td>\n",
       "      <td>116</td>\n",
       "      <td>176</td>\n",
       "      <td>328</td>\n",
       "      <td>74</td>\n",
       "      <td>4424</td>\n",
       "    </tr>\n",
       "  </tbody>\n",
       "</table>\n",
       "</div>"
      ],
      "text/plain": [
       "category             Amphibian  Bird  Fish  Mammal  Nonvascular Plant  \\\n",
       "conservation_status                                                     \n",
       "Not Intervention            73   442   116     176                328   \n",
       "\n",
       "category             Reptile  Vascular Plant  \n",
       "conservation_status                           \n",
       "Not Intervention          74            4424  "
      ]
     },
     "execution_count": 20,
     "metadata": {},
     "output_type": "execute_result"
    }
   ],
   "source": [
    "conservation_categoryNO = species_1[species_1.conservation_status == \"Not Intervention\"].groupby([\"conservation_status\", \"category\"])\\\n",
    "                                  [\"category\"].count().unstack()\n",
    "\n",
    "conservation_categoryNO\n",
    "\n"
   ]
  },
  {
   "cell_type": "code",
   "execution_count": 21,
   "metadata": {},
   "outputs": [
    {
     "data": {
      "text/plain": [
       "Text(0, 0.5, 'Count')"
      ]
     },
     "execution_count": 21,
     "metadata": {},
     "output_type": "execute_result"
    },
    {
     "data": {
      "image/png": "[encoded data removed]",
      "text/plain": [
       "<Figure size 640x480 with 1 Axes>"
      ]
     },
     "metadata": {},
     "output_type": "display_data"
    }
   ],
   "source": [
    "conservation_categoryNO.plot(kind = \"bar\", stacked = True)\n",
    "plt.xlabel(\"Conservation_status\")\n",
    "plt.ylabel(\"Count\")\n"
   ]
  },
  {
   "cell_type": "markdown",
   "metadata": {},
   "source": [
    "**Now we are going to simplify the database in order to find out which species and in what proportion they are or are not protected.**"
   ]
  },
  {
   "cell_type": "code",
   "execution_count": 319,
   "metadata": {},
   "outputs": [
    {
     "name": "stdout",
     "output_type": "stream",
     "text": [
      "species protected are 191\n",
      "species NOT protected are 5633\n",
      "species protected represents the 3.279532967032967%\n"
     ]
    }
   ],
   "source": [
    "species_1['Protected'] = species_1.conservation_status != \"Not Intervention\"\n",
    "resume_protected = species_1[[\"category\", \"scientific_name\", \"Protected\"]]\n",
    "\n",
    "protected_number = species_1.scientific_name[species_1.Protected == True].count()\n",
    "not_protected_number = species_1.scientific_name[species_1.Protected == False].count()\n",
    "print(\"species protected are \" + str(protected_number))\n",
    "print(\"species NOT protected are \" + str(not_protected_number))\n",
    "print(\"species protected represents the {}%\".format(((protected_number / (protected_number + not_protected_number))*100)))\n",
    "\n"
   ]
  },
  {
   "cell_type": "code",
   "execution_count": 23,
   "metadata": {},
   "outputs": [
    {
     "data": {
      "text/html": [
       "<div>\n",
       "<style scoped>\n",
       "    .dataframe tbody tr th:only-of-type {\n",
       "        vertical-align: middle;\n",
       "    }\n",
       "\n",
       "    .dataframe tbody tr th {\n",
       "        vertical-align: top;\n",
       "    }\n",
       "\n",
       "    .dataframe thead th {\n",
       "        text-align: right;\n",
       "    }\n",
       "</style>\n",
       "<table border=\"1\" class=\"dataframe\">\n",
       "  <thead>\n",
       "    <tr style=\"text-align: right;\">\n",
       "      <th>Protected</th>\n",
       "      <th>False</th>\n",
       "      <th>True</th>\n",
       "      <th>%Protected</th>\n",
       "    </tr>\n",
       "    <tr>\n",
       "      <th>category</th>\n",
       "      <th></th>\n",
       "      <th></th>\n",
       "      <th></th>\n",
       "    </tr>\n",
       "  </thead>\n",
       "  <tbody>\n",
       "    <tr>\n",
       "      <th>Amphibian</th>\n",
       "      <td>72</td>\n",
       "      <td>7</td>\n",
       "      <td>9.0</td>\n",
       "    </tr>\n",
       "    <tr>\n",
       "      <th>Bird</th>\n",
       "      <td>413</td>\n",
       "      <td>75</td>\n",
       "      <td>15.0</td>\n",
       "    </tr>\n",
       "    <tr>\n",
       "      <th>Fish</th>\n",
       "      <td>115</td>\n",
       "      <td>11</td>\n",
       "      <td>9.0</td>\n",
       "    </tr>\n",
       "    <tr>\n",
       "      <th>Mammal</th>\n",
       "      <td>146</td>\n",
       "      <td>30</td>\n",
       "      <td>17.0</td>\n",
       "    </tr>\n",
       "    <tr>\n",
       "      <th>Nonvascular Plant</th>\n",
       "      <td>328</td>\n",
       "      <td>5</td>\n",
       "      <td>2.0</td>\n",
       "    </tr>\n",
       "    <tr>\n",
       "      <th>Reptile</th>\n",
       "      <td>73</td>\n",
       "      <td>5</td>\n",
       "      <td>6.0</td>\n",
       "    </tr>\n",
       "    <tr>\n",
       "      <th>Vascular Plant</th>\n",
       "      <td>4216</td>\n",
       "      <td>46</td>\n",
       "      <td>1.0</td>\n",
       "    </tr>\n",
       "  </tbody>\n",
       "</table>\n",
       "</div>"
      ],
      "text/plain": [
       "Protected          False  True  %Protected\n",
       "category                                  \n",
       "Amphibian             72     7         9.0\n",
       "Bird                 413    75        15.0\n",
       "Fish                 115    11         9.0\n",
       "Mammal               146    30        17.0\n",
       "Nonvascular Plant    328     5         2.0\n",
       "Reptile               73     5         6.0\n",
       "Vascular Plant      4216    46         1.0"
      ]
     },
     "execution_count": 23,
     "metadata": {},
     "output_type": "execute_result"
    }
   ],
   "source": [
    "category_counts = species_1.groupby(['category', 'Protected'])\\\n",
    "                        .scientific_name.nunique().unstack()\n",
    "category_counts['%Protected'] = round(category_counts[True] / (category_counts[True] + category_counts[False]), 2) * 100\n",
    "\n",
    "category_counts\n"
   ]
  },
  {
   "cell_type": "markdown",
   "metadata": {},
   "source": [
    "\n",
    "<font size = \"4\">**Analisis de contingencia - nivel de significancia en estadística entre variables**</font>\n",
    "\n",
    "\n",
    "Let's see if there is a relationship between the species that are protected from those that are not, in order to extrapolate data that make us think that you can see animals that are related to each other to act together. We will see it based on the highest percentages of protected species and we will see them with all of them until we see if there are any with a significance.\n",
    "\n",
    "Mammal y Bird: Protected and Not Protected\n",
    "\n",
    "||protected|not protected\n",
    "|-|-|-|\n",
    "|Mammal|?|?|\n",
    "|Bird|?|?|\n",
    "\n",
    "It gives us a p-value result much higher than 0.05 in significance so there is no relationship between them"
   ]
  },
  {
   "cell_type": "code",
   "execution_count": 24,
   "metadata": {},
   "outputs": [
    {
     "name": "stdout",
     "output_type": "stream",
     "text": [
      "Expected: Protected - No Protected:\n",
      "[[ 77.1686747 410.8313253]\n",
      " [ 27.8313253 148.1686747]]\n",
      "p_value:0.6875948096661336\n",
      "Chi2:0.16170148316545574\n"
     ]
    }
   ],
   "source": [
    "#values from mammals and Birds who are protected and no protected\n",
    "contigencia1 = [[75, 413],\n",
    "                [30, 146]]\n",
    "chi2, p_value, dof, expected = chi2_contingency(contigencia1)\n",
    "print(\"Expected: Protected - No Protected:\\n\" + str(expected))\n",
    "print(\"p_value:\" + str(p_value))\n",
    "print(\"Chi2:\" + str(chi2))\n",
    "\n",
    "\n"
   ]
  },
  {
   "cell_type": "markdown",
   "metadata": {},
   "source": [
    "**Now we try with reptiles and mammals:**"
   ]
  },
  {
   "cell_type": "code",
   "execution_count": 25,
   "metadata": {},
   "outputs": [
    {
     "name": "stdout",
     "output_type": "stream",
     "text": [
      "Expected: Protected - No Protected:\n",
      "[[ 25.5372549 150.4627451]\n",
      " [ 11.4627451  67.5372549]]\n",
      "p_value:0.12757669693198975\n",
      "Chi2:2.321746712946015\n"
     ]
    }
   ],
   "source": [
    "#values from Mammals and Amphibial who are protected and no protected\n",
    "contingecia2 = [[30, 146], [7, 72]]\n",
    "chi2, p_value, dof, expected = chi2_contingency(contingecia2)\n",
    "print(\"Expected: Protected - No Protected:\\n\" + str(expected))\n",
    "print(\"p_value:\" + str(p_value))\n",
    "print(\"Chi2:\" + str(chi2))\n",
    "\n"
   ]
  },
  {
   "cell_type": "markdown",
   "metadata": {},
   "source": [
    "**Now we try with mammals and Fish:**"
   ]
  },
  {
   "cell_type": "code",
   "execution_count": 26,
   "metadata": {},
   "outputs": [
    {
     "name": "stdout",
     "output_type": "stream",
     "text": [
      "Expected: Protected - No Protected:\n",
      "[[ 23.89403974 152.10596026]\n",
      " [ 17.10596026 108.89403974]]\n",
      "p_value:0.0561483484489001\n",
      "Chi2:3.647651024981415\n"
     ]
    }
   ],
   "source": [
    "contingecia3 = [[30, 146], [11, 115]]\n",
    "chi2, p_value, dof, expected = chi2_contingency(contingecia3)\n",
    "print(\"Expected: Protected - No Protected:\\n\" + str(expected))\n",
    "print(\"p_value:\" + str(p_value))\n",
    "print(\"Chi2:\" + str(chi2))"
   ]
  },
  {
   "cell_type": "markdown",
   "metadata": {},
   "source": [
    "**Now we try with Birds and Reptiles:**"
   ]
  },
  {
   "cell_type": "code",
   "execution_count": 27,
   "metadata": {},
   "outputs": [
    {
     "name": "stdout",
     "output_type": "stream",
     "text": [
      "Expected: Protected - No Protected:\n",
      "[[ 68.97526502 419.02473498]\n",
      " [ 11.02473498  66.97526502]]\n",
      "p_value:0.05313542232154235\n",
      "Chi2:3.7396547786854963\n"
     ]
    }
   ],
   "source": [
    "contingecia4 = [[75, 413], [5, 73]]\n",
    "chi2, p_value, dof, expected = chi2_contingency(contingecia4)\n",
    "print(\"Expected: Protected - No Protected:\\n\" + str(expected))\n",
    "print(\"p_value:\" + str(p_value))\n",
    "print(\"Chi2:\" + str(chi2))"
   ]
  },
  {
   "cell_type": "markdown",
   "metadata": {},
   "source": [
    "**We identify that there is a differential significance between Mammals and Reptiles to take into account, it tells us that we must be more concerned about the protection of Mammals.**\n",
    "\n",
    "**Therefore, now we are going to see which animals make up the category of Mammals to see what is the number of each one that is protected, to see if there is any animal that differs from the others.**"
   ]
  },
  {
   "cell_type": "code",
   "execution_count": 28,
   "metadata": {},
   "outputs": [
    {
     "data": {
      "text/html": [
       "<div>\n",
       "<style scoped>\n",
       "    .dataframe tbody tr th:only-of-type {\n",
       "        vertical-align: middle;\n",
       "    }\n",
       "\n",
       "    .dataframe tbody tr th {\n",
       "        vertical-align: top;\n",
       "    }\n",
       "\n",
       "    .dataframe thead th {\n",
       "        text-align: right;\n",
       "    }\n",
       "</style>\n",
       "<table border=\"1\" class=\"dataframe\">\n",
       "  <thead>\n",
       "    <tr style=\"text-align: right;\">\n",
       "      <th></th>\n",
       "      <th>common_names</th>\n",
       "      <th>Protected</th>\n",
       "    </tr>\n",
       "  </thead>\n",
       "  <tbody>\n",
       "    <tr>\n",
       "      <th>0</th>\n",
       "      <td>Gapper's Red-Backed Vole</td>\n",
       "      <td>False</td>\n",
       "    </tr>\n",
       "    <tr>\n",
       "      <th>1</th>\n",
       "      <td>American Bison, Bison</td>\n",
       "      <td>False</td>\n",
       "    </tr>\n",
       "    <tr>\n",
       "      <th>2</th>\n",
       "      <td>Aurochs, Aurochs, Domestic Cattle (Feral), Dom...</td>\n",
       "      <td>False</td>\n",
       "    </tr>\n",
       "    <tr>\n",
       "      <th>3</th>\n",
       "      <td>Domestic Sheep, Mouflon, Red Sheep, Sheep (Feral)</td>\n",
       "      <td>False</td>\n",
       "    </tr>\n",
       "    <tr>\n",
       "      <th>4</th>\n",
       "      <td>Wapiti Or Elk</td>\n",
       "      <td>False</td>\n",
       "    </tr>\n",
       "  </tbody>\n",
       "</table>\n",
       "</div>"
      ],
      "text/plain": [
       "                                        common_names  Protected\n",
       "0                           Gapper's Red-Backed Vole      False\n",
       "1                              American Bison, Bison      False\n",
       "2  Aurochs, Aurochs, Domestic Cattle (Feral), Dom...      False\n",
       "3  Domestic Sheep, Mouflon, Red Sheep, Sheep (Feral)      False\n",
       "4                                      Wapiti Or Elk      False"
      ]
     },
     "execution_count": 28,
     "metadata": {},
     "output_type": "execute_result"
    }
   ],
   "source": [
    "dict_common_names = species_1[['common_names', 'Protected']]\n",
    "dict_common_names.head()"
   ]
  },
  {
   "cell_type": "code",
   "execution_count": 298,
   "metadata": {},
   "outputs": [],
   "source": [
    "names_protected =species_1[species.Protected == True].common_names.reset_index(drop = True)\n",
    "data = []\n",
    "for name in names_protected:\n",
    "    values = name.split(',')\n",
    "    data.extend(values)\n",
    "\n",
    "species_protected = pd.DataFrame({'common_names': data})"
   ]
  },
  {
   "cell_type": "markdown",
   "metadata": {},
   "source": [
    "**the most protected animals who are protected:**"
   ]
  },
  {
   "cell_type": "code",
   "execution_count": 299,
   "metadata": {},
   "outputs": [
    {
     "data": {
      "text/plain": [
       "Myotis     23\n",
       "Bat        16\n",
       "Wolf        6\n",
       "Hawk        4\n",
       "Snake       4\n",
       "Warbler     4\n",
       "Sparrow     4\n",
       "Darter      3\n",
       "Falcon      3\n",
       "Sheep       3\n",
       "Name: count, dtype: int64"
      ]
     },
     "execution_count": 299,
     "metadata": {},
     "output_type": "execute_result"
    }
   ],
   "source": [
    "split_data = [phrase.split(' ') for phrase in data]\n",
    "animals = [sublist[-1] for sublist in split_data if sublist]  # Exclude empty sublists\n",
    "series_animals = pd.Series(animals)\n",
    "series_animals.value_counts().head(10)\n"
   ]
  },
  {
   "cell_type": "code",
   "execution_count": 297,
   "metadata": {},
   "outputs": [],
   "source": [
    "species_protected = pd.DataFrame({'common_names': data})"
   ]
  },
  {
   "cell_type": "code",
   "execution_count": 59,
   "metadata": {},
   "outputs": [
    {
     "name": "stdout",
     "output_type": "stream",
     "text": [
      "numbers of common names that are not protected: 8870\n",
      "Only the 2.69% of animals are protected\n"
     ]
    }
   ],
   "source": [
    "names_no_protected =species_1[species.Protected == False].common_names.reset_index(drop = True)\n",
    "data2 = []\n",
    "for name in names_no_protected:\n",
    "    values = name.split(',')\n",
    "    data2.extend(values)\n",
    "\n",
    "\n",
    "species_not_protected = pd.DataFrame({'common_names': data2})\n",
    "\n",
    "print(\"numbers of common names that are not protected: \" + str(len(data2)))\n",
    "print(\"Only the {}% of animals are protected\".format(round(len(data)/(len(data)+len(data2))*100, 2)))"
   ]
  },
  {
   "cell_type": "markdown",
   "metadata": {},
   "source": [
    "**Incorporamos las categorías de animales, las especies a las que corresponde y cuales de ellas están protegidas a la que pertenece cada especie de la base de datos de 'species', cogemos ese campo creando una tabla nueva llamada 'observ2' ya que estamos modificando la original, para averiguar su distribución por parque Natural por category de especie animal para simplificiar su visualización.**\n",
    "\n",
    "**Observamos que la distribución de animales entre diferentes parques naturales es homogénea, por lo que las actuaciones deberán ser por igual en caso de necesitarlo, vemos claramente que en YellowStone National Park tiene sustancialmente muchos más animales que el resto pero tiene las mismas proporciones de diversidad de especies de animales por categoría.**"
   ]
  },
  {
   "cell_type": "code",
   "execution_count": 208,
   "metadata": {},
   "outputs": [
    {
     "data": {
      "text/html": [
       "<div>\n",
       "<style scoped>\n",
       "    .dataframe tbody tr th:only-of-type {\n",
       "        vertical-align: middle;\n",
       "    }\n",
       "\n",
       "    .dataframe tbody tr th {\n",
       "        vertical-align: top;\n",
       "    }\n",
       "\n",
       "    .dataframe thead th {\n",
       "        text-align: right;\n",
       "    }\n",
       "</style>\n",
       "<table border=\"1\" class=\"dataframe\">\n",
       "  <thead>\n",
       "    <tr style=\"text-align: right;\">\n",
       "      <th></th>\n",
       "      <th>scientific_name</th>\n",
       "      <th>park_name</th>\n",
       "      <th>observations</th>\n",
       "      <th>category</th>\n",
       "      <th>Protected</th>\n",
       "      <th>status</th>\n",
       "      <th>common_names</th>\n",
       "      <th>observ_percetaje_protected</th>\n",
       "    </tr>\n",
       "  </thead>\n",
       "  <tbody>\n",
       "    <tr>\n",
       "      <th>0</th>\n",
       "      <td>Vicia benghalensis</td>\n",
       "      <td>Great Smoky Mountains National Park</td>\n",
       "      <td>68</td>\n",
       "      <td>Vascular Plant</td>\n",
       "      <td>False</td>\n",
       "      <td>Not Intervention</td>\n",
       "      <td>Purple Vetch, Reddish Tufted Vetch</td>\n",
       "      <td>0.0</td>\n",
       "    </tr>\n",
       "    <tr>\n",
       "      <th>1</th>\n",
       "      <td>Neovison vison</td>\n",
       "      <td>Great Smoky Mountains National Park</td>\n",
       "      <td>77</td>\n",
       "      <td>Mammal</td>\n",
       "      <td>False</td>\n",
       "      <td>Not Intervention</td>\n",
       "      <td>American Mink</td>\n",
       "      <td>0.0</td>\n",
       "    </tr>\n",
       "    <tr>\n",
       "      <th>2</th>\n",
       "      <td>Prunus subcordata</td>\n",
       "      <td>Yosemite National Park</td>\n",
       "      <td>138</td>\n",
       "      <td>Vascular Plant</td>\n",
       "      <td>False</td>\n",
       "      <td>Not Intervention</td>\n",
       "      <td>Klamath Plum</td>\n",
       "      <td>0.0</td>\n",
       "    </tr>\n",
       "    <tr>\n",
       "      <th>3</th>\n",
       "      <td>Abutilon theophrasti</td>\n",
       "      <td>Bryce National Park</td>\n",
       "      <td>84</td>\n",
       "      <td>Vascular Plant</td>\n",
       "      <td>False</td>\n",
       "      <td>Not Intervention</td>\n",
       "      <td>Velvetleaf</td>\n",
       "      <td>0.0</td>\n",
       "    </tr>\n",
       "    <tr>\n",
       "      <th>4</th>\n",
       "      <td>Githopsis specularioides</td>\n",
       "      <td>Great Smoky Mountains National Park</td>\n",
       "      <td>85</td>\n",
       "      <td>Vascular Plant</td>\n",
       "      <td>False</td>\n",
       "      <td>Not Intervention</td>\n",
       "      <td>Common Bluecup</td>\n",
       "      <td>0.0</td>\n",
       "    </tr>\n",
       "  </tbody>\n",
       "</table>\n",
       "</div>"
      ],
      "text/plain": [
       "            scientific_name                            park_name  \\\n",
       "0        Vicia benghalensis  Great Smoky Mountains National Park   \n",
       "1            Neovison vison  Great Smoky Mountains National Park   \n",
       "2         Prunus subcordata               Yosemite National Park   \n",
       "3      Abutilon theophrasti                  Bryce National Park   \n",
       "4  Githopsis specularioides  Great Smoky Mountains National Park   \n",
       "\n",
       "   observations        category  Protected            status  \\\n",
       "0            68  Vascular Plant      False  Not Intervention   \n",
       "1            77          Mammal      False  Not Intervention   \n",
       "2           138  Vascular Plant      False  Not Intervention   \n",
       "3            84  Vascular Plant      False  Not Intervention   \n",
       "4            85  Vascular Plant      False  Not Intervention   \n",
       "\n",
       "                         common_names  observ_percetaje_protected  \n",
       "0  Purple Vetch, Reddish Tufted Vetch                         0.0  \n",
       "1                       American Mink                         0.0  \n",
       "2                        Klamath Plum                         0.0  \n",
       "3                          Velvetleaf                         0.0  \n",
       "4                      Common Bluecup                         0.0  "
      ]
     },
     "execution_count": 208,
     "metadata": {},
     "output_type": "execute_result"
    }
   ],
   "source": [
    "observ2 = observ\n",
    "\n",
    "mapping_category = species_1.set_index('scientific_name')['category'].to_dict()\n",
    "observ2['category'] = observ2['scientific_name'].map(mapping_category)\n",
    "\n",
    "mapping_protected = species_1.set_index('scientific_name')['Protected'].to_dict()\n",
    "observ2['Protected'] = observ2['scientific_name'].map(mapping_protected)\n",
    "\n",
    "mapping_status = species_1.set_index('scientific_name')['conservation_status'].to_dict()\n",
    "observ2['status'] = observ2['scientific_name'].map(mapping_status)\n",
    "\n",
    "mapping_names = species_1.set_index('scientific_name')['common_names'].to_dict()\n",
    "observ2['common_names'] = observ2['scientific_name'].map(mapping_names)\n",
    "\n",
    "observ2.head()"
   ]
  },
  {
   "cell_type": "code",
   "execution_count": 207,
   "metadata": {},
   "outputs": [
    {
     "name": "stdout",
     "output_type": "stream",
     "text": [
      "We check if we have, at list, same numbers of rows as the original in order to see if could be any modification. Original number of rows: 23296, data modificated rows: 23296\n",
      "Species protected observations : 90108 and species no protected obervation 3224631\n",
      "park_name                            Protected  status            \n",
      "Bryce National Park                  False      Not Intervention       559762\n",
      "                                     True       Endangered                489\n",
      "                                                In Recovery               258\n",
      "                                                Species of Concern      14925\n",
      "                                                Threatened                591\n",
      "Great Smoky Mountains National Park  False      Not Intervention       420543\n",
      "                                     True       Endangered                334\n",
      "                                                In Recovery               189\n",
      "                                                Species of Concern      10314\n",
      "                                                Threatened                440\n",
      "Yellowstone National Park            False      Not Intervention      1404527\n",
      "                                     True       Endangered               1228\n",
      "                                                In Recovery               559\n",
      "                                                Species of Concern      35789\n",
      "                                                Threatened               1459\n",
      "Yosemite National Park               False      Not Intervention       839799\n",
      "                                     True       Endangered                747\n",
      "                                                In Recovery               386\n",
      "                                                Species of Concern      21551\n",
      "                                                Threatened                849\n",
      "Name: observations, dtype: int64\n"
     ]
    }
   ],
   "source": [
    "print(\"We check if we have, at list, same numbers of rows as the original in order to see if there are any modification. Original number of rows: {}, data modificated rows: {}\".format(len(observ),len(observ2)))\n",
    "print(\"Species protected observations : {} and species no protected obervation {}\".format(observ2[observ2.Protected == True].observations.sum(), observ2[observ2.Protected == False].observations.sum()))\n",
    "print(observ2.groupby(['park_name', 'Protected', 'status']).observations.sum())"
   ]
  },
  {
   "cell_type": "markdown",
   "metadata": {},
   "source": [
    "**Differents species categories among differents natural parks:**"
   ]
  },
  {
   "cell_type": "code",
   "execution_count": 204,
   "metadata": {},
   "outputs": [
    {
     "data": {
      "image/png": "[encoded data removed]",
      "text/plain": [
       "<Figure size 1000x600 with 1 Axes>"
      ]
     },
     "metadata": {},
     "output_type": "display_data"
    }
   ],
   "source": [
    "\n",
    "plt.figure(figsize=(10, 6))\n",
    "sns.barplot(x='park_name', y='observations', data=observ2, hue='category')\n",
    "plt.title('Observations by Park and Category')\n",
    "plt.xlabel('Park Name')\n",
    "plt.ylabel('Observations')\n",
    "plt.xticks(rotation=45)\n",
    "plt.legend(title='Category')\n",
    "plt.show()"
   ]
  },
  {
   "cell_type": "code",
   "execution_count": 209,
   "metadata": {},
   "outputs": [
    {
     "data": {
      "image/png": "[encoded data removed]",
      "text/plain": [
       "<Figure size 1000x600 with 1 Axes>"
      ]
     },
     "metadata": {},
     "output_type": "display_data"
    }
   ],
   "source": [
    "plt.figure(figsize = (10, 6))\n",
    "sns.barplot(x = 'park_name', y = 'observations', data = observ2, hue = 'Protected')\n",
    "plt.xticks(rotation = 45)\n",
    "plt.title(\"Observations by Park and Protected categories, on diversity\")\n",
    "legend = plt.legend(loc= 'upper left')\n",
    "legend.set_title(\"Are they protected?\")"
   ]
  },
  {
   "cell_type": "markdown",
   "metadata": {},
   "source": [
    "**Now we want to visualize the Protected category Mammals in order to see the distribution among the different parks:**"
   ]
  },
  {
   "cell_type": "code",
   "execution_count": 205,
   "metadata": {},
   "outputs": [
    {
     "data": {
      "image/png": "[encoded data removed]",
      "text/plain": [
       "<Figure size 1000x600 with 1 Axes>"
      ]
     },
     "metadata": {},
     "output_type": "display_data"
    }
   ],
   "source": [
    "plt.figure(figsize = (10, 6))\n",
    "sns.barplot(x = 'park_name', y = 'observations', data = observ2[observ2.category == 'Mammal'], hue = 'Protected', estimator = sum)\n",
    "plt.xticks(rotation = 45)\n",
    "plt.title(\"Observations by Park and Protected categories of Mammals\")\n",
    "legend = plt.legend(loc= 'upper left')\n",
    "legend.set_title(\"Are they protected?\")"
   ]
  },
  {
   "cell_type": "markdown",
   "metadata": {},
   "source": [
    "**Species categories who was observated on different parks who are on state endangered:**"
   ]
  },
  {
   "cell_type": "code",
   "execution_count": 185,
   "metadata": {},
   "outputs": [
    {
     "data": {
      "text/html": [
       "<div>\n",
       "<style scoped>\n",
       "    .dataframe tbody tr th:only-of-type {\n",
       "        vertical-align: middle;\n",
       "    }\n",
       "\n",
       "    .dataframe tbody tr th {\n",
       "        vertical-align: top;\n",
       "    }\n",
       "\n",
       "    .dataframe thead th {\n",
       "        text-align: right;\n",
       "    }\n",
       "</style>\n",
       "<table border=\"1\" class=\"dataframe\">\n",
       "  <thead>\n",
       "    <tr style=\"text-align: right;\">\n",
       "      <th>category</th>\n",
       "      <th>Amphibian</th>\n",
       "      <th>Bird</th>\n",
       "      <th>Fish</th>\n",
       "      <th>Mammal</th>\n",
       "      <th>Vascular Plant</th>\n",
       "    </tr>\n",
       "    <tr>\n",
       "      <th>park_name</th>\n",
       "      <th></th>\n",
       "      <th></th>\n",
       "      <th></th>\n",
       "      <th></th>\n",
       "      <th></th>\n",
       "    </tr>\n",
       "  </thead>\n",
       "  <tbody>\n",
       "    <tr>\n",
       "      <th>Bryce National Park</th>\n",
       "      <td>31</td>\n",
       "      <td>98</td>\n",
       "      <td>70</td>\n",
       "      <td>265</td>\n",
       "      <td>25</td>\n",
       "    </tr>\n",
       "    <tr>\n",
       "      <th>Great Smoky Mountains National Park</th>\n",
       "      <td>11</td>\n",
       "      <td>61</td>\n",
       "      <td>77</td>\n",
       "      <td>158</td>\n",
       "      <td>27</td>\n",
       "    </tr>\n",
       "    <tr>\n",
       "      <th>Yellowstone National Park</th>\n",
       "      <td>60</td>\n",
       "      <td>243</td>\n",
       "      <td>202</td>\n",
       "      <td>660</td>\n",
       "      <td>63</td>\n",
       "    </tr>\n",
       "    <tr>\n",
       "      <th>Yosemite National Park</th>\n",
       "      <td>42</td>\n",
       "      <td>172</td>\n",
       "      <td>106</td>\n",
       "      <td>380</td>\n",
       "      <td>47</td>\n",
       "    </tr>\n",
       "  </tbody>\n",
       "</table>\n",
       "</div>"
      ],
      "text/plain": [
       "category                             Amphibian  Bird  Fish  Mammal  \\\n",
       "park_name                                                            \n",
       "Bryce National Park                         31    98    70     265   \n",
       "Great Smoky Mountains National Park         11    61    77     158   \n",
       "Yellowstone National Park                   60   243   202     660   \n",
       "Yosemite National Park                      42   172   106     380   \n",
       "\n",
       "category                             Vascular Plant  \n",
       "park_name                                            \n",
       "Bryce National Park                              25  \n",
       "Great Smoky Mountains National Park              27  \n",
       "Yellowstone National Park                        63  \n",
       "Yosemite National Park                           47  "
      ]
     },
     "execution_count": 185,
     "metadata": {},
     "output_type": "execute_result"
    }
   ],
   "source": [
    "total_protected_observations = observ2[observ2.Protected == True].observations.sum()\n",
    "observ2['observ_percetaje_protected'] = (observ2.observations / total_protected_observations)*100\n",
    "observ2.loc[observ2['status'] == 'Not Intervention', 'observ_percetaje_protected'] = 0\n",
    "observ2[observ2.status == \"Endangered\"].groupby(['park_name','category']).observations.sum().unstack()"
   ]
  },
  {
   "cell_type": "markdown",
   "metadata": {},
   "source": [
    "**Percentaje of species categories who are protected on differents nartional parks:**"
   ]
  },
  {
   "cell_type": "code",
   "execution_count": 321,
   "metadata": {},
   "outputs": [
    {
     "data": {
      "text/html": [
       "<div>\n",
       "<style scoped>\n",
       "    .dataframe tbody tr th:only-of-type {\n",
       "        vertical-align: middle;\n",
       "    }\n",
       "\n",
       "    .dataframe tbody tr th {\n",
       "        vertical-align: top;\n",
       "    }\n",
       "\n",
       "    .dataframe thead th {\n",
       "        text-align: right;\n",
       "    }\n",
       "</style>\n",
       "<table border=\"1\" class=\"dataframe\">\n",
       "  <thead>\n",
       "    <tr style=\"text-align: right;\">\n",
       "      <th>status</th>\n",
       "      <th>Endangered</th>\n",
       "      <th>In Recovery</th>\n",
       "      <th>Species of Concern</th>\n",
       "      <th>Threatened</th>\n",
       "    </tr>\n",
       "    <tr>\n",
       "      <th>park_name</th>\n",
       "      <th></th>\n",
       "      <th></th>\n",
       "      <th></th>\n",
       "      <th></th>\n",
       "    </tr>\n",
       "  </thead>\n",
       "  <tbody>\n",
       "    <tr>\n",
       "      <th>Bryce National Park</th>\n",
       "      <td>0.542682</td>\n",
       "      <td>0.286323</td>\n",
       "      <td>16.563457</td>\n",
       "      <td>0.655880</td>\n",
       "    </tr>\n",
       "    <tr>\n",
       "      <th>Great Smoky Mountains National Park</th>\n",
       "      <td>0.370666</td>\n",
       "      <td>0.209748</td>\n",
       "      <td>11.446264</td>\n",
       "      <td>0.488303</td>\n",
       "    </tr>\n",
       "    <tr>\n",
       "      <th>Yellowstone National Park</th>\n",
       "      <td>1.362809</td>\n",
       "      <td>0.620367</td>\n",
       "      <td>39.717894</td>\n",
       "      <td>1.619168</td>\n",
       "    </tr>\n",
       "    <tr>\n",
       "      <th>Yosemite National Park</th>\n",
       "      <td>0.829005</td>\n",
       "      <td>0.428375</td>\n",
       "      <td>23.916855</td>\n",
       "      <td>0.942203</td>\n",
       "    </tr>\n",
       "  </tbody>\n",
       "</table>\n",
       "</div>"
      ],
      "text/plain": [
       "status                               Endangered  In Recovery  \\\n",
       "park_name                                                      \n",
       "Bryce National Park                    0.542682     0.286323   \n",
       "Great Smoky Mountains National Park    0.370666     0.209748   \n",
       "Yellowstone National Park              1.362809     0.620367   \n",
       "Yosemite National Park                 0.829005     0.428375   \n",
       "\n",
       "status                               Species of Concern  Threatened  \n",
       "park_name                                                            \n",
       "Bryce National Park                           16.563457    0.655880  \n",
       "Great Smoky Mountains National Park           11.446264    0.488303  \n",
       "Yellowstone National Park                     39.717894    1.619168  \n",
       "Yosemite National Park                        23.916855    0.942203  "
      ]
     },
     "execution_count": 321,
     "metadata": {},
     "output_type": "execute_result"
    }
   ],
   "source": [
    "observ2[observ2.Protected == True].groupby(['park_name', 'status']).observ_percetaje_protected.sum().unstack()\n"
   ]
  },
  {
   "cell_type": "code",
   "execution_count": null,
   "metadata": {},
   "outputs": [],
   "source": []
  },
  {
   "cell_type": "markdown",
   "metadata": {},
   "source": [
    "<font size=\"4\">**CONCLUSIONS:**</font>\n",
    "\n",
    "We observe that the number of protected versus unprotected species is a very small number: only 3.28% are protected.\n",
    "\n",
    "They are the Mammals, the Birds the most protected categories (they represent 32%), without being many, and among them are the Myotis with 23 and Bats with 16 of the animal species most types protected.\n",
    "\n",
    "Only are 16 species on endangered situation, special the Mamals and Birds.\n",
    "\n",
    "On nationals Parks: There is an homgeneus animals distribution among all species categories.\n",
    "\n",
    "Regardind the observations on nationals parks: 90.108 speciesthat are protected animals have been seen, and 3.224.631 observations correspond to animals not protected, there is a big difference, we might conclude that the species are on a safe condition otherwise they will be on trouble.\n",
    "\n",
    "If we want to establish animal conservation policies, especially on politics of protected species, it would be a very precise and lower cost action if we focused exclusively on the natural parks of Yellowstone National Park and Yosemite National Park, they two represent almost 70% of the species that are having some specific action.\n",
    "\n",
    "\n",
    "\n",
    "\n",
    "\n",
    "\n",
    "\n",
    "\n",
    "\n",
    "\n",
    "\n"
   ]
  },
  {
   "cell_type": "code",
   "execution_count": null,
   "metadata": {},
   "outputs": [],
   "source": []
  }
 ],
 "metadata": {
  "kernelspec": {
   "display_name": "Python 3 (ipykernel)",
   "language": "python",
   "name": "python3"
  },
  "language_info": {
   "codemirror_mode": {
    "name": "ipython",
    "version": 3
   },
   "file_extension": ".py",
   "mimetype": "text/x-python",
   "name": "python",
   "nbconvert_exporter": "python",
   "pygments_lexer": "ipython3",
   "version": "3.11.5"
  }
 },
 "nbformat": 4,
 "nbformat_minor": 4
}
